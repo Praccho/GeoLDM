{
 "cells": [
  {
   "cell_type": "markdown",
   "metadata": {},
   "source": [
    "# Training the VAE\n",
    "\n",
    "First, clone repo:"
   ]
  },
  {
   "cell_type": "code",
   "execution_count": null,
   "metadata": {},
   "outputs": [],
   "source": [
    "!git clone https://github.com/Praccho/GeoLDM.git"
   ]
  },
  {
   "cell_type": "markdown",
   "metadata": {},
   "source": [
    "Install dependencies:"
   ]
  },
  {
   "cell_type": "code",
   "execution_count": null,
   "metadata": {},
   "outputs": [],
   "source": [
    "%cd GeoLDM\n",
    "!pip install -r requirements.txt"
   ]
  },
  {
   "cell_type": "markdown",
   "metadata": {},
   "source": [
    "Version Checks:"
   ]
  },
  {
   "cell_type": "code",
   "execution_count": null,
   "metadata": {},
   "outputs": [],
   "source": [
    "import torch\n",
    "print(torch.__version__)\n",
    "print(torch.cuda.is_available())\n",
    "print(torch.version.cuda)"
   ]
  },
  {
   "cell_type": "markdown",
   "metadata": {},
   "source": [
    "## Mounting to Drive\n",
    "\n",
    "Mount to drive to save logs there, rather than on runtime."
   ]
  },
  {
   "cell_type": "code",
   "execution_count": null,
   "metadata": {},
   "outputs": [],
   "source": [
    "from google.colab import drive\n",
    "drive.mount('/content/drive')"
   ]
  },
  {
   "cell_type": "code",
   "execution_count": null,
   "metadata": {},
   "outputs": [],
   "source": [
    "import os\n",
    "\n",
    "logdir = '/content/drive/My Drive/Colab Notebooks/my_model_logs'\n",
    "\n",
    "if not os.path.exists(logdir):\n",
    "    os.makedirs(logdir)\n",
    "    print(f\"Created directory {logdir}\")\n",
    "else:\n",
    "    print(f\"Directory {logdir} already exists\")"
   ]
  },
  {
   "cell_type": "markdown",
   "metadata": {},
   "source": [
    "## Tensor Board:\n",
    "\n",
    "Run the following cells to launch tensorbaord to track training"
   ]
  },
  {
   "cell_type": "code",
   "execution_count": null,
   "metadata": {},
   "outputs": [],
   "source": [
    "%load_ext tensorboard"
   ]
  },
  {
   "cell_type": "code",
   "execution_count": null,
   "metadata": {},
   "outputs": [],
   "source": [
    "%tensorboard --logdir \"{logdir}\""
   ]
  },
  {
   "cell_type": "markdown",
   "metadata": {},
   "source": [
    "## Train!\n",
    "\n",
    "### Command-Line Arguments\n",
    "\n",
    "- `-n`, `--name`: Optional. Postfix for the log directory. It is appended to the log directory name if specified.\n",
    "- `-r`, `--resume`: Optional. Path to resume from a log directory or a checkpoint within a log directory. Specify the directory or the checkpoint file to resume training.\n",
    "- `-b`, `--base`: Optional. Paths to base configuration files in YAML format. Configurations are loaded from left to right, and parameters can be overwritten or added via command-line options using `--key value`.\n",
    "- `-t`, `--train`: Optional. Boolean flag to enable training mode. Set to `True` to activate training.\n",
    "- `--no-test`: Optional. Boolean flag to disable testing. If set to `True`, the testing phase is skipped.\n",
    "- `-l`, `--logdir`: Optional. Directory for storing logs and outputs. Defaults to `logs` if not specified."
   ]
  },
  {
   "cell_type": "code",
   "execution_count": null,
   "metadata": {},
   "outputs": [],
   "source": [
    "!python main.py --base configs/vae.yaml --train --logdir \"{logdir}\""
   ]
  }
 ],
 "metadata": {
  "language_info": {
   "name": "python"
  }
 },
 "nbformat": 4,
 "nbformat_minor": 2
}
